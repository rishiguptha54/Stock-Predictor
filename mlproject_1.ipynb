{
  "nbformat": 4,
  "nbformat_minor": 0,
  "metadata": {
    "colab": {
      "provenance": [],
      "authorship_tag": "ABX9TyOjNB0vXW2Ev4OfGun6ifHz",
      "include_colab_link": true
    },
    "kernelspec": {
      "name": "python3",
      "display_name": "Python 3"
    },
    "language_info": {
      "name": "python"
    }
  },
  "cells": [
    {
      "cell_type": "markdown",
      "metadata": {
        "id": "view-in-github",
        "colab_type": "text"
      },
      "source": [
        "<a href=\"https://colab.research.google.com/github/rishiguptha54/Stock-Predictor/blob/main/mlproject_1.ipynb\" target=\"_parent\"><img src=\"https://colab.research.google.com/assets/colab-badge.svg\" alt=\"Open In Colab\"/></a>"
      ]
    },
    {
      "cell_type": "code",
      "source": [
        "! pip install streamlit -q\n",
        "\n"
      ],
      "metadata": {
        "id": "wsO12k-yZcXM"
      },
      "execution_count": 12,
      "outputs": []
    },
    {
      "cell_type": "code",
      "source": [
        "!npm install -g localtunnel\n"
      ],
      "metadata": {
        "colab": {
          "base_uri": "https://localhost:8080/"
        },
        "id": "sxEbhUVgbjV2",
        "outputId": "e6dbc478-c399-46ad-b2a5-cd48fbfefdc8"
      },
      "execution_count": 17,
      "outputs": [
        {
          "output_type": "stream",
          "name": "stdout",
          "text": [
            "\u001b[K\u001b[?25h\n",
            "added 22 packages, and audited 23 packages in 2s\n",
            "\n",
            "3 packages are looking for funding\n",
            "  run `npm fund` for details\n",
            "\n",
            "1 \u001b[33m\u001b[1mmoderate\u001b[22m\u001b[39m severity vulnerability\n",
            "\n",
            "To address all issues (including breaking changes), run:\n",
            "  npm audit fix --force\n",
            "\n",
            "Run `npm audit` for details.\n"
          ]
        }
      ]
    },
    {
      "cell_type": "code",
      "source": [
        "!wget -q -O - ipv4.icanhazip.com\n"
      ],
      "metadata": {
        "colab": {
          "base_uri": "https://localhost:8080/"
        },
        "id": "XJ4ZrJqBcCnn",
        "outputId": "0b1dbd94-5444-4089-ec85-231e4c72c6ff"
      },
      "execution_count": 22,
      "outputs": [
        {
          "output_type": "stream",
          "name": "stdout",
          "text": [
            "35.185.170.182\n"
          ]
        }
      ]
    },
    {
      "cell_type": "code",
      "source": [
        "! streamlit run app.py & npx localtunnel --port 8501\n"
      ],
      "metadata": {
        "colab": {
          "base_uri": "https://localhost:8080/"
        },
        "id": "WKV9DFHqerDN",
        "outputId": "ece492c2-f9dd-49a3-bccf-caa4d623170e"
      },
      "execution_count": null,
      "outputs": [
        {
          "output_type": "stream",
          "name": "stdout",
          "text": [
            "\n",
            "Collecting usage statistics. To deactivate, set browser.gatherUsageStats to false.\n",
            "\u001b[0m\n",
            "\u001b[0m\n",
            "\u001b[34m\u001b[1m  You can now view your Streamlit app in your browser.\u001b[0m\n",
            "\u001b[0m\n",
            "\u001b[34m  Local URL: \u001b[0m\u001b[1mhttp://localhost:8501\u001b[0m\n",
            "\u001b[34m  Network URL: \u001b[0m\u001b[1mhttp://172.28.0.12:8501\u001b[0m\n",
            "\u001b[34m  External URL: \u001b[0m\u001b[1mhttp://35.185.170.182:8501\u001b[0m\n",
            "\u001b[0m\n",
            "your url is: https://weak-cases-stand.loca.lt\n",
            "2024-08-15 19:19:48.391641: E external/local_xla/xla/stream_executor/cuda/cuda_fft.cc:485] Unable to register cuFFT factory: Attempting to register factory for plugin cuFFT when one has already been registered\n",
            "2024-08-15 19:19:48.430397: E external/local_xla/xla/stream_executor/cuda/cuda_dnn.cc:8454] Unable to register cuDNN factory: Attempting to register factory for plugin cuDNN when one has already been registered\n",
            "2024-08-15 19:19:48.441086: E external/local_xla/xla/stream_executor/cuda/cuda_blas.cc:1452] Unable to register cuBLAS factory: Attempting to register factory for plugin cuBLAS when one has already been registered\n",
            "2024-08-15 19:19:48.469618: I tensorflow/core/platform/cpu_feature_guard.cc:210] This TensorFlow binary is optimized to use available CPU instructions in performance-critical operations.\n",
            "To enable the following instructions: AVX2 FMA, in other operations, rebuild TensorFlow with the appropriate compiler flags.\n",
            "2024-08-15 19:19:49.981536: W tensorflow/compiler/tf2tensorrt/utils/py_utils.cc:38] TF-TRT Warning: Could not find TensorRT\n",
            "[*********************100%%**********************]  1 of 1 completed\n",
            "\u001b[1m18/18\u001b[0m \u001b[32m━━━━━━━━━━━━━━━━━━━━\u001b[0m\u001b[37m\u001b[0m \u001b[1m2s\u001b[0m 98ms/step\n",
            "[*********************100%%**********************]  1 of 1 completed\n",
            "\u001b[1m18/18\u001b[0m \u001b[32m━━━━━━━━━━━━━━━━━━━━\u001b[0m\u001b[37m\u001b[0m \u001b[1m2s\u001b[0m 95ms/step\n",
            "[*********************100%%**********************]  0 of 0 completed\n",
            "2024-08-15 19:21:46.704 Uncaught app exception\n",
            "Traceback (most recent call last):\n",
            "  File \"/usr/local/lib/python3.10/dist-packages/yfinance/multi.py\", line 208, in download\n",
            "    data = _pd.concat(shared._DFS.values(), axis=1, sort=True,\n",
            "  File \"/usr/local/lib/python3.10/dist-packages/pandas/core/reshape/concat.py\", line 380, in concat\n",
            "    op = _Concatenator(\n",
            "  File \"/usr/local/lib/python3.10/dist-packages/pandas/core/reshape/concat.py\", line 443, in __init__\n",
            "    objs, keys = self._clean_keys_and_objs(objs, keys)\n",
            "  File \"/usr/local/lib/python3.10/dist-packages/pandas/core/reshape/concat.py\", line 505, in _clean_keys_and_objs\n",
            "    raise ValueError(\"No objects to concatenate\")\n",
            "ValueError: No objects to concatenate\n",
            "\n",
            "During handling of the above exception, another exception occurred:\n",
            "\n",
            "Traceback (most recent call last):\n",
            "  File \"/usr/local/lib/python3.10/dist-packages/streamlit/runtime/scriptrunner/exec_code.py\", line 85, in exec_func_with_error_handling\n",
            "    result = func()\n",
            "  File \"/usr/local/lib/python3.10/dist-packages/streamlit/runtime/scriptrunner/script_runner.py\", line 576, in code_to_exec\n",
            "    exec(code, module.__dict__)\n",
            "  File \"/content/app.py\", line 21, in <module>\n",
            "    data = yf.download(stock, start, end)\n",
            "  File \"/usr/local/lib/python3.10/dist-packages/yfinance/utils.py\", line 104, in wrapper\n",
            "    result = func(*args, **kwargs)\n",
            "  File \"/usr/local/lib/python3.10/dist-packages/yfinance/multi.py\", line 212, in download\n",
            "    data = _pd.concat(shared._DFS.values(), axis=1, sort=True,\n",
            "  File \"/usr/local/lib/python3.10/dist-packages/pandas/core/reshape/concat.py\", line 380, in concat\n",
            "    op = _Concatenator(\n",
            "  File \"/usr/local/lib/python3.10/dist-packages/pandas/core/reshape/concat.py\", line 443, in __init__\n",
            "    objs, keys = self._clean_keys_and_objs(objs, keys)\n",
            "  File \"/usr/local/lib/python3.10/dist-packages/pandas/core/reshape/concat.py\", line 505, in _clean_keys_and_objs\n",
            "    raise ValueError(\"No objects to concatenate\")\n",
            "ValueError: No objects to concatenate\n",
            "[*********************100%%**********************]  1 of 1 completed\n",
            "\u001b[1m18/18\u001b[0m \u001b[32m━━━━━━━━━━━━━━━━━━━━\u001b[0m\u001b[37m\u001b[0m \u001b[1m3s\u001b[0m 157ms/step\n",
            "[*********************100%%**********************]  1 of 1 completed\n",
            "[*********************100%%**********************]  1 of 1 completed\n",
            "\u001b[1m18/18\u001b[0m \u001b[32m━━━━━━━━━━━━━━━━━━━━\u001b[0m\u001b[37m\u001b[0m \u001b[1m2s\u001b[0m 112ms/step\n",
            "\u001b[1m18/18\u001b[0m \u001b[32m━━━━━━━━━━━━━━━━━━━━\u001b[0m\u001b[37m\u001b[0m \u001b[1m2s\u001b[0m 97ms/step\n",
            "[*********************100%%**********************]  1 of 1 completed\n",
            "\n",
            "1 Failed download:\n",
            "['AMZZ']: YFChartError(\"%ticker%: Data doesn't exist for startDate = 1325394000, endDate = 1672462800\")\n",
            "2024-08-15 19:24:03.286 Uncaught app exception\n",
            "Traceback (most recent call last):\n",
            "  File \"/usr/local/lib/python3.10/dist-packages/streamlit/runtime/scriptrunner/exec_code.py\", line 85, in exec_func_with_error_handling\n",
            "    result = func()\n",
            "  File \"/usr/local/lib/python3.10/dist-packages/streamlit/runtime/scriptrunner/script_runner.py\", line 576, in code_to_exec\n",
            "    exec(code, module.__dict__)\n",
            "  File \"/content/app.py\", line 34, in <module>\n",
            "    data_test_scale = scaler.fit_transform(data_test)\n",
            "  File \"/usr/local/lib/python3.10/dist-packages/sklearn/utils/_set_output.py\", line 157, in wrapped\n",
            "    data_to_wrap = f(self, X, *args, **kwargs)\n",
            "  File \"/usr/local/lib/python3.10/dist-packages/sklearn/base.py\", line 916, in fit_transform\n",
            "    return self.fit(X, **fit_params).transform(X)\n",
            "  File \"/usr/local/lib/python3.10/dist-packages/sklearn/preprocessing/_data.py\", line 435, in fit\n",
            "    return self.partial_fit(X, y)\n",
            "  File \"/usr/local/lib/python3.10/dist-packages/sklearn/base.py\", line 1152, in wrapper\n",
            "    return fit_method(estimator, *args, **kwargs)\n",
            "  File \"/usr/local/lib/python3.10/dist-packages/sklearn/preprocessing/_data.py\", line 473, in partial_fit\n",
            "    X = self._validate_data(\n",
            "  File \"/usr/local/lib/python3.10/dist-packages/sklearn/base.py\", line 605, in _validate_data\n",
            "    out = check_array(X, input_name=\"X\", **check_params)\n",
            "  File \"/usr/local/lib/python3.10/dist-packages/sklearn/utils/validation.py\", line 967, in check_array\n",
            "    raise ValueError(\n",
            "ValueError: Found array with 0 sample(s) (shape=(0, 1)) while a minimum of 1 is required by MinMaxScaler.\n",
            "[*********************100%%**********************]  1 of 1 completed\n",
            "\u001b[1m18/18\u001b[0m \u001b[32m━━━━━━━━━━━━━━━━━━━━\u001b[0m\u001b[37m\u001b[0m \u001b[1m2s\u001b[0m 99ms/step\n",
            "[*********************100%%**********************]  1 of 1 completed\n",
            "\u001b[1m18/18\u001b[0m \u001b[32m━━━━━━━━━━━━━━━━━━━━\u001b[0m\u001b[37m\u001b[0m \u001b[1m2s\u001b[0m 100ms/step\n"
          ]
        }
      ]
    }
  ]
}